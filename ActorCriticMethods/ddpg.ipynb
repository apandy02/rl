{
 "cells": [
  {
   "cell_type": "markdown",
   "metadata": {},
   "source": [
    "# Deep Deterministic Policy Gradients (DDPG)\n",
    "\n",
    "In this notebook we explore a neural network based implementation of the Actor-Critic method for Reinforcement Learning. This algorithm can be seen as the convergence of the breakthroughs that came from the DQN paper with the actor-critic algorithm. This algorithm, DDPG, applies the concepts of experience replay using a replay buffer to mitigate the sequential nature of the data being sampled by interaction with the environment, and instead learns by sampling a batch of random samples of experience saved in the replay buffer for gradient based optimization. \n",
    "\n",
    "In general, actor-critic algorithms comprise of two parts, an actor and a critic. Both of these parts are learned from data in the form of multilayer perceptrons rather than manual mappings or hand engineered features. The actor here is our policy network. Given an observation as input, the actor picks out the best action possible based on its weights. Since our actor directly picks out a singular action instead of a probability of actions, we say this follows the \"deterministic\" policy gradients algorithm, thus the \"deterministic\" in DDPG. The critic, on the other hand, is used to provide feedback to the actor. The critic network predicts the expected value of a state action pair (action picked out by the actor network), which is what is our actor's goal to maximize.\n",
    "\n",
    "We use the concept of a target network (as in DQN, refer to /reinforcement_learning/DQN for more) in order to stabilize the learning process. \n",
    "\n",
    "DDPG was designed to work well in continuous action spaces, so we run our experiences on the mujoco Half-Cheetah-v4 environment that provides us with a \"half\" cheetah as an agent whose goal is to travel as much in the forward direction as possible. "
   ]
  },
  {
   "cell_type": "code",
   "execution_count": 43,
   "metadata": {},
   "outputs": [],
   "source": [
    "import  gym\n",
    "import math\n",
    "import random\n",
    "import matplotlib\n",
    "import matplotlib.pyplot as plt\n",
    "from collections import namedtuple, deque\n",
    "from itertools import count\n",
    "import numpy as np  \n",
    "\n",
    "import torch\n",
    "import torch.nn as nn\n",
    "import torch.optim as optim\n",
    "import torch.nn.functional as F\n",
    "\n",
    "from IPython.display import clear_output"
   ]
  },
  {
   "cell_type": "code",
   "execution_count": 44,
   "metadata": {},
   "outputs": [
    {
     "data": {
      "text/plain": [
       "(array([ 0.00763375,  0.03125413, -0.00071709, -0.03314128,  0.02287299,\n",
       "        -0.06734332, -0.04080408,  0.02668012, -0.24806516,  0.16761543,\n",
       "         0.00586194,  0.12995108,  0.04826599,  0.01424354,  0.05099084,\n",
       "        -0.02589471, -0.02283937]),\n",
       " {})"
      ]
     },
     "execution_count": 44,
     "metadata": {},
     "output_type": "execute_result"
    }
   ],
   "source": [
    "env = gym.make('HalfCheetah-v4')#, render_mode = \"human\") uncomment to render \n",
    "env.reset()"
   ]
  },
  {
   "cell_type": "markdown",
   "metadata": {},
   "source": [
    "### Action Space\n",
    "As mentioned previously, the DDPG algorithm shines in continuous action spaces. Our cheetah has 6 pivots upon which it can execute forces from the -1.0 to 1.0 range, as seen below. "
   ]
  },
  {
   "cell_type": "code",
   "execution_count": 45,
   "metadata": {},
   "outputs": [
    {
     "data": {
      "text/plain": [
       "Box(-1.0, 1.0, (6,), float32)"
      ]
     },
     "execution_count": 45,
     "metadata": {},
     "output_type": "execute_result"
    }
   ],
   "source": [
    "env.action_space"
   ]
  },
  {
   "cell_type": "code",
   "execution_count": 46,
   "metadata": {},
   "outputs": [],
   "source": [
    "DIM_ACTIONS = 6"
   ]
  },
  {
   "cell_type": "markdown",
   "metadata": {},
   "source": [
    "### Exploring the observation space "
   ]
  },
  {
   "cell_type": "code",
   "execution_count": 47,
   "metadata": {},
   "outputs": [
    {
     "data": {
      "text/plain": [
       "Box(-inf, inf, (17,), float64)"
      ]
     },
     "execution_count": 47,
     "metadata": {},
     "output_type": "execute_result"
    }
   ],
   "source": [
    "observation_space = env.observation_space\n",
    "observation_space"
   ]
  },
  {
   "cell_type": "markdown",
   "metadata": {},
   "source": [
    "We have a 17 dimensional observation space. Our observations consist of positional values of the different pivots on the cheetah, their velocities and angular velocities with respect to our different euclidean coordinate frames. "
   ]
  },
  {
   "cell_type": "code",
   "execution_count": 48,
   "metadata": {},
   "outputs": [],
   "source": [
    "DIM_OBSERVATIONS = 17"
   ]
  },
  {
   "cell_type": "markdown",
   "metadata": {},
   "source": [
    "### Building a class for our replay buffer\n",
    "Nothing changes here v/s the DQN implementation "
   ]
  },
  {
   "cell_type": "code",
   "execution_count": 49,
   "metadata": {},
   "outputs": [],
   "source": [
    "#named tuple to store experience \n",
    "Transition = namedtuple('Transition',\n",
    "                        ('state', 'action', 'next_state', 'reward'))\n",
    "\n",
    "#Experience replay buffer object \n",
    "class ReplayMemory(object):\n",
    "\n",
    "    def __init__(self, capacity):\n",
    "        #contains a deque of specified buffer length \n",
    "        self.memory = deque([], maxlen=capacity)\n",
    "\n",
    "    def push(self, *args):\n",
    "        #add new transition to buffer \n",
    "        self.memory.append(Transition(*args))\n",
    "\n",
    "    #simple function to sample some experience from memory randomly \n",
    "    def sample(self, batch_size):\n",
    "        return random.sample(self.memory, batch_size)\n",
    "\n",
    "    def __len__(self):\n",
    "        return len(self.memory)"
   ]
  },
  {
   "cell_type": "markdown",
   "metadata": {},
   "source": [
    "### Defining our Critic (Q-Value function)\n",
    "The differences between this network and the Deep Q Network used for pure DQN are: \n",
    "- We're now evaluating a single action that has already been selected by the actor so the first linear layer accepts our observation concatenated with our action \n",
    "- Since we're evaluating only one action, we output the value estimate for that singluar action only instead of the set of possible actions giving our network an output dimension of 1 "
   ]
  },
  {
   "cell_type": "code",
   "execution_count": 50,
   "metadata": {},
   "outputs": [],
   "source": [
    "class critic_Q(nn.Module):\n",
    "\n",
    "    def __init__(self, len_observation_space, dim_actions):\n",
    "        super(critic_Q, self).__init__()\n",
    "        #observations to 128 \n",
    "        self.layer1 = nn.Linear(len_observation_space + dim_actions, 128)\n",
    "        #linear transformation \n",
    "        self.layer2 = nn.Linear(128, 128)\n",
    "        #linear downsizing to number of possible actions \n",
    "        self.layer3 = nn.Linear(128, 1)\n",
    "\n",
    "    def forward(self, observation, action):\n",
    "        x = torch.cat([observation, action], dim=-1)\n",
    "        x = F.relu(self.layer1(x))\n",
    "        x = F.relu(self.layer2(x))\n",
    "        return self.layer3(x)"
   ]
  },
  {
   "cell_type": "markdown",
   "metadata": {},
   "source": [
    "### Actor Network \n",
    "A multilayer perceptron that accepts our observation as input and outputs a deterministic action to be taken at timestep t "
   ]
  },
  {
   "cell_type": "code",
   "execution_count": 51,
   "metadata": {},
   "outputs": [],
   "source": [
    "class actor_Policy(nn.Module): \n",
    "    def __init__(self, len_observation_space, dim_actions):\n",
    "        super(actor_Policy, self).__init__()\n",
    "        #observations to 128 \n",
    "        self.layer1 = nn.Linear(len_observation_space, 128)\n",
    "        #linear transformation \n",
    "        self.layer2 = nn.Linear(128, 128)\n",
    "        #deterministically outputting a single action \n",
    "        self.layer3 = nn.Linear(128, dim_actions) #output has the specified dimensionality to specify actions with respect to \n",
    "                                                  #all action dimensions (in the case of our example, this is 6)\n",
    "\n",
    "    def forward(self, x):\n",
    "        x = F.relu(self.layer1(x))\n",
    "        x = F.relu(self.layer2(x))\n",
    "        return torch.tanh(self.layer3(x))"
   ]
  },
  {
   "cell_type": "code",
   "execution_count": 52,
   "metadata": {},
   "outputs": [],
   "source": [
    "TRAIN_AFTER_STEPS = 5e4"
   ]
  },
  {
   "cell_type": "markdown",
   "metadata": {},
   "source": [
    "### Optimization Function Overview\n",
    "\n",
    "The following function represents the optimization steps. If our replay buffer is at capacity, we:\n",
    "\n",
    "- Sample a batch of transitions from memory. This initial step involves drawing a selection of varied transitions from our repository of stored experiences.\n",
    "\n",
    "- Compute the expected value using the critic network. \n",
    "\n",
    "- Run inference on target network to determine what our \"next action\" would be given our sampled \"next_state\"\n",
    "\n",
    "- Compute the target value by running inference on the target critic given the next state and next action from the above step \n",
    "\n",
    "- Given the predicted value, sampled reward and target next state/action value, compute the TD error\n",
    "\n",
    "- Compute the loss between the predicted and target values and then optimize the critic network. \n",
    "\n",
    "- Use the negative log of the mean value of the values outputted by the critic as the loss for the actor. We want to maximize this mean. \n",
    "\n",
    "Through this sequence of steps, the function continuously enhances the model's predictive performance along with control performance by learning from past errors.\n"
   ]
  },
  {
   "cell_type": "code",
   "execution_count": 53,
   "metadata": {},
   "outputs": [],
   "source": [
    "def optimize_model(gamma, batch_size, memory, actor, critic, target_actor, target_critic, loss_fn, actor_optimizer, critic_optimizer, device):\n",
    "    \n",
    "    if len(memory) < 25e3: \n",
    "        print(\"not enough samples\")\n",
    "        return None, None\n",
    "    \n",
    "    transitions = memory.sample(batch_size)\n",
    "    batch = Transition(*zip(*transitions)) #batches our data as follows: ((state1, state2, ..), (action1, action2, ...), ...)\n",
    "    \n",
    "    non_final_mask = torch.tensor([s is not None for s in batch.next_state],\n",
    "                                  device=device, dtype=torch.bool)\n",
    "    non_final_next_states = torch.cat([s for s in batch.next_state if s is not None])\n",
    "    \n",
    "    states = torch.cat(batch.state).to(device)\n",
    "    actions = torch.tensor(np.stack(batch.action), dtype=torch.float32, device=device)\n",
    "    rewards = torch.tensor(np.stack(batch.reward), dtype=torch.float32, device=device)\n",
    "\n",
    "    \n",
    "    predicted_values = critic(states, actions) \n",
    "    \n",
    "    with torch.no_grad():\n",
    "        next_actions = target_actor(non_final_next_states)  \n",
    "    \n",
    "    next_state_values = torch.zeros(batch_size, device=device)\n",
    "    with torch.no_grad():\n",
    "        next_state_values[non_final_mask] = target_critic(non_final_next_states, next_actions).squeeze(1)  \n",
    "    \n",
    "    target_values = (next_state_values * gamma) +rewards # if the state is non terminal, we add to it the expected value of the next state \n",
    "    td_error = target_values - predicted_values \n",
    "    \n",
    "    loss = loss_fn(predicted_values, target_values.unsqueeze(1))\n",
    "    critic_optimizer.zero_grad()\n",
    "    loss.backward()\n",
    "    torch.nn.utils.clip_grad_value_(critic.parameters(), 100)\n",
    "    critic_optimizer.step()\n",
    "\n",
    "    actor_loss = -critic(states,actor(states)).mean()\n",
    "    actor_optimizer.zero_grad()\n",
    "    actor_loss.backward()\n",
    "    actor_optimizer.step()\n",
    "\n",
    "    return loss.cpu().detach().numpy(), actor_loss.cpu().detach().numpy()"
   ]
  },
  {
   "cell_type": "code",
   "execution_count": 54,
   "metadata": {},
   "outputs": [],
   "source": [
    "def trainer(num_epochs, num_cycles, num_rollouts, train_steps, batch_size, target_actor, actor, target_critic, critic, gamma, device, \\\n",
    "            replay_buffer, actor_optimizer, critic_optimizer, tau, epochs_till_buffer_full): \n",
    "    \n",
    "    reward_per_episode = []\n",
    "    actor_loss_per_episode = []\n",
    "    critic_loss_per_episode = []\n",
    "    noise_factor = 0.3 \n",
    "\n",
    "    for epoch in range(num_epochs): \n",
    "\n",
    "        rewards_per_cycle = []\n",
    "        critic_losses = []\n",
    "        actor_losses = []\n",
    "        \n",
    "        for cycle in range(num_cycles): \n",
    "\n",
    "            cum_reward = 0\n",
    "            epoch_end = False\n",
    "            state, _ = env.reset()\n",
    "            state = torch.tensor(state, dtype=torch.float32, device = device).unsqueeze(0)\n",
    "            \n",
    "            for rollout in range(num_rollouts):\n",
    "\n",
    "                #select action based on our policy network \n",
    "                action = actor(state).squeeze().cpu().detach().numpy()\n",
    "                \n",
    "                #Add noise to our action vector to introduce some level of exploration \n",
    "                noise = np.random.normal(0, noise_factor, size=env.action_space.shape) # Adjust the scale (0.2) as needed\n",
    "                \n",
    "                action = np.clip(action + noise, env.action_space.low, env.action_space.high) #clip so that our actions never exceed the allowed thresholds \n",
    "                next_state, reward, terminated, truncated, _ = env.step(action)\n",
    "\n",
    "                epoch_end = terminated or truncated\n",
    "\n",
    "                cum_reward+=reward\n",
    "                \n",
    "                if not terminated: \n",
    "                    next_state = torch.tensor(next_state, dtype=torch.float32, \\\n",
    "                        device = device).unsqueeze(0) #we only care about next_state if the state is non terminal\n",
    "                else: \n",
    "                    next_state = None\n",
    "                \n",
    "                replay_buffer.push(state, action, next_state, reward)\n",
    "                state = next_state\n",
    "     \n",
    "\n",
    "            #we only traina few times each epoch to avoid overfitting : \n",
    "            \n",
    "            for _ in range(train_steps): \n",
    "                critic_loss, actor_loss = optimize_model(gamma, batch_size, replay_buffer, actor, critic, target_actor, target_critic,loss_fn=torch.nn.MSELoss(size_average=True), actor_optimizer=actor_optimizer,\\\n",
    "                            critic_optimizer= critic_optimizer, device=device)\n",
    "                if actor_loss is not None and critic_loss is not None: \n",
    "                    actor_losses.append(actor_loss)\n",
    "                    critic_losses.append(critic_loss)\n",
    "    \n",
    "            target_critic_state_dict = target_critic.state_dict()\n",
    "            critic_state_dict = critic.state_dict()\n",
    "\n",
    "            target_actor_state_dict = target_actor.state_dict()\n",
    "            actor_state_dict = actor.state_dict()\n",
    "            \n",
    "            # we update our target networks with the weights of our primary networks (they really need to clear up terminology here lol)\n",
    "            \n",
    "            for key in actor_state_dict.keys():\n",
    "                #we perform soft updates as follows:\n",
    "                # θ′ ← τ θ + (1 −τ )θ′\n",
    "                target_actor_state_dict[key] = actor_state_dict[key]*tau + target_actor_state_dict[key]*(1-tau)\n",
    "                target_actor.load_state_dict(target_actor_state_dict)\n",
    "            \n",
    "            for key in critic_state_dict.keys():    \n",
    "                target_critic_state_dict[key] = critic_state_dict[key]*tau + target_critic_state_dict[key]*(1-tau)\n",
    "                target_critic.load_state_dict(target_critic_state_dict)\n",
    "                \n",
    "            rewards_per_cycle.append(cum_reward)\n",
    "        \n",
    "\n",
    "\n",
    "        reward_per_episode.append(sum(rewards_per_cycle) / len(rewards_per_cycle))    \n",
    "        clear_output(wait=True) # Clear the output of the current cell receiving output\n",
    "        plt.plot(reward_per_episode)\n",
    "        plt.title('Average Cumulative Reward per Epoch')\n",
    "        plt.xlabel('Epoch')\n",
    "        plt.ylabel('Cumulative Reward')\n",
    "        plt.show()\n",
    "        \n",
    "        if len(critic_losses) > 0: \n",
    "            actor_loss_per_episode.append(sum(actor_losses) / len(actor_losses))       \n",
    "            critic_loss_per_episode.append(sum(critic_losses) / len(critic_losses))       \n",
    "\n",
    "            plt.plot(actor_loss_per_episode)\n",
    "            plt.title('Actor Loss per Epoch')\n",
    "            plt.xlabel('Epoch')\n",
    "            plt.ylabel('Actor loss')\n",
    "            plt.show()\n",
    "\n",
    "            plt.plot(critic_loss_per_episode)\n",
    "            plt.title('Critic Loss per Epoch')\n",
    "            plt.xlabel('Epoch')\n",
    "            plt.ylabel('Critic Loss')\n",
    "            plt.show()"
   ]
  },
  {
   "cell_type": "code",
   "execution_count": 55,
   "metadata": {},
   "outputs": [],
   "source": [
    "#hyperparams \n",
    "NUM_EPOCHS = 1000  \n",
    "GAMMA = 0.99 \n",
    "ALPHA_ACTOR = 1e-4 \n",
    "ALPHA_CRITIC = 3e-4\n",
    "BATCH_SIZE = 64 #we want a relatively large batch size to leverage GPU parallelism but at the same time we want this number to be far \n",
    "                #smaller than our memory capacity so that we can sample randomly at the same time\n",
    "NUM_CYCLES = 20 \n",
    "TRAIN_STEPS = 1500 \n",
    "TAU = 0.001\n",
    "NUM_ROLLOUTS = 30\n",
    "L2_REG = 0.001\n",
    "DEVICE = torch.device(\"cuda\" if torch.cuda.is_available() else \"cpu\")\n",
    "BUFFER_SIZE = 1000000"
   ]
  },
  {
   "cell_type": "code",
   "execution_count": 56,
   "metadata": {},
   "outputs": [
    {
     "data": {
      "text/plain": [
       "<All keys matched successfully>"
      ]
     },
     "execution_count": 56,
     "metadata": {},
     "output_type": "execute_result"
    }
   ],
   "source": [
    "replay_buffer = ReplayMemory(BUFFER_SIZE)\n",
    "\n",
    "actor = actor_Policy(len_observation_space=DIM_OBSERVATIONS, dim_actions=DIM_ACTIONS)\n",
    "target_actor = actor_Policy(len_observation_space=DIM_OBSERVATIONS, dim_actions=DIM_ACTIONS)\n",
    "\n",
    "critic = critic_Q(len_observation_space=DIM_OBSERVATIONS, dim_actions=DIM_ACTIONS)\n",
    "target_critic = critic_Q(len_observation_space=DIM_OBSERVATIONS, dim_actions=DIM_ACTIONS)\n",
    "\n",
    "actor.to(DEVICE)\n",
    "target_actor.to(DEVICE)\n",
    "\n",
    "critic.to(DEVICE)\n",
    "target_critic.to(DEVICE)\n",
    "\n",
    "target_actor.load_state_dict(actor.state_dict())\n",
    "target_critic.load_state_dict(critic.state_dict())"
   ]
  },
  {
   "cell_type": "code",
   "execution_count": 57,
   "metadata": {},
   "outputs": [
    {
     "name": "stdout",
     "output_type": "stream",
     "text": [
      "steps per epoch: 20000, training starts after 2.5 epochs, the replay buffer fills up in 50.0 epochs, we train based on 64000 samples per epoch\n"
     ]
    }
   ],
   "source": [
    "steps_per_epoch = NUM_ROLLOUTS * NUM_CYCLES\n",
    "train_after_epochs = TRAIN_AFTER_STEPS / steps_per_epoch\n",
    "epochs_till_buffer_full = BUFFER_SIZE / steps_per_epoch\n",
    "train_samples_per_epoch = TRAIN_STEPS * BATCH_SIZE * NUM_CYCLES\n",
    "print(f\"steps per epoch: {steps_per_epoch}, training starts after {train_after_epochs} epochs, the replay buffer fills up in {epochs_till_buffer_full} epochs, we train based on {train_samples_per_epoch} samples\\\n",
    " per epoch\")"
   ]
  },
  {
   "cell_type": "code",
   "execution_count": 58,
   "metadata": {},
   "outputs": [],
   "source": [
    "actor_optimizer = torch.optim.Adam(actor.parameters(), lr=ALPHA_ACTOR, weight_decay=L2_REG)"
   ]
  },
  {
   "cell_type": "code",
   "execution_count": 59,
   "metadata": {},
   "outputs": [],
   "source": [
    "critic_optimizer = torch.optim.Adam(critic.parameters(), lr=ALPHA_CRITIC, weight_decay=L2_REG)"
   ]
  },
  {
   "cell_type": "code",
   "execution_count": 60,
   "metadata": {},
   "outputs": [
    {
     "name": "stdout",
     "output_type": "stream",
     "text": [
      "i at epoch end: 1000\n"
     ]
    }
   ],
   "source": [
    "trainer(num_epochs=NUM_EPOCHS, num_cycles=NUM_CYCLES,num_rollouts=NUM_ROLLOUTS, train_steps=TRAIN_STEPS, batch_size=BATCH_SIZE, actor=actor, critic=critic, target_actor=target_actor, target_critic=target_critic,\\\n",
    "         gamma=GAMMA, device=DEVICE, replay_buffer=replay_buffer, actor_optimizer=actor_optimizer, critic_optimizer=critic_optimizer, tau=TAU, epochs_till_buffer_full= epochs_till_buffer_full)"
   ]
  },
  {
   "cell_type": "code",
   "execution_count": 61,
   "metadata": {},
   "outputs": [],
   "source": [
    "env = gym.make('HalfCheetah-v4', render_mode = \"human\")\n"
   ]
  },
  {
   "cell_type": "code",
   "execution_count": 62,
   "metadata": {},
   "outputs": [],
   "source": [
    "NUM_TEST_CYCLES = 10 "
   ]
  },
  {
   "cell_type": "code",
   "execution_count": 63,
   "metadata": {},
   "outputs": [
    {
     "data": {
      "image/png": "[encoded data removed]",
      "text/plain": [
       "<Figure size 640x480 with 1 Axes>"
      ]
     },
     "metadata": {},
     "output_type": "display_data"
    },
    {
     "ename": "KeyboardInterrupt",
     "evalue": "",
     "output_type": "error",
     "traceback": [
      "\u001b[0;31m---------------------------------------------------------------------------\u001b[0m",
      "\u001b[0;31mKeyboardInterrupt\u001b[0m                         Traceback (most recent call last)",
      "Cell \u001b[0;32mIn[63], line 15\u001b[0m\n\u001b[1;32m     11\u001b[0m \u001b[39mwith\u001b[39;00m torch\u001b[39m.\u001b[39mno_grad():\n\u001b[1;32m     13\u001b[0m     action \u001b[39m=\u001b[39m actor(state)\u001b[39m.\u001b[39msqueeze()\u001b[39m.\u001b[39mcpu()\u001b[39m.\u001b[39mdetach()\u001b[39m.\u001b[39mnumpy()\n\u001b[0;32m---> 15\u001b[0m     next_state, reward, terminated, truncated, _ \u001b[39m=\u001b[39m env\u001b[39m.\u001b[39;49mstep(action)\n\u001b[1;32m     17\u001b[0m     test_epoch_end \u001b[39m=\u001b[39m terminated \u001b[39mor\u001b[39;00m truncated\n\u001b[1;32m     19\u001b[0m     cum_reward\u001b[39m+\u001b[39m\u001b[39m=\u001b[39mreward\n",
      "File \u001b[0;32m~/ml_accel/lib/python3.9/site-packages/gym/wrappers/time_limit.py:50\u001b[0m, in \u001b[0;36mTimeLimit.step\u001b[0;34m(self, action)\u001b[0m\n\u001b[1;32m     39\u001b[0m \u001b[39mdef\u001b[39;00m \u001b[39mstep\u001b[39m(\u001b[39mself\u001b[39m, action):\n\u001b[1;32m     40\u001b[0m \u001b[39m    \u001b[39m\u001b[39m\"\"\"Steps through the environment and if the number of steps elapsed exceeds ``max_episode_steps`` then truncate.\u001b[39;00m\n\u001b[1;32m     41\u001b[0m \n\u001b[1;32m     42\u001b[0m \u001b[39m    Args:\u001b[39;00m\n\u001b[0;32m   (...)\u001b[0m\n\u001b[1;32m     48\u001b[0m \n\u001b[1;32m     49\u001b[0m \u001b[39m    \"\"\"\u001b[39;00m\n\u001b[0;32m---> 50\u001b[0m     observation, reward, terminated, truncated, info \u001b[39m=\u001b[39m \u001b[39mself\u001b[39;49m\u001b[39m.\u001b[39;49menv\u001b[39m.\u001b[39;49mstep(action)\n\u001b[1;32m     51\u001b[0m     \u001b[39mself\u001b[39m\u001b[39m.\u001b[39m_elapsed_steps \u001b[39m+\u001b[39m\u001b[39m=\u001b[39m \u001b[39m1\u001b[39m\n\u001b[1;32m     53\u001b[0m     \u001b[39mif\u001b[39;00m \u001b[39mself\u001b[39m\u001b[39m.\u001b[39m_elapsed_steps \u001b[39m>\u001b[39m\u001b[39m=\u001b[39m \u001b[39mself\u001b[39m\u001b[39m.\u001b[39m_max_episode_steps:\n",
      "File \u001b[0;32m~/ml_accel/lib/python3.9/site-packages/gym/wrappers/order_enforcing.py:37\u001b[0m, in \u001b[0;36mOrderEnforcing.step\u001b[0;34m(self, action)\u001b[0m\n\u001b[1;32m     35\u001b[0m \u001b[39mif\u001b[39;00m \u001b[39mnot\u001b[39;00m \u001b[39mself\u001b[39m\u001b[39m.\u001b[39m_has_reset:\n\u001b[1;32m     36\u001b[0m     \u001b[39mraise\u001b[39;00m ResetNeeded(\u001b[39m\"\u001b[39m\u001b[39mCannot call env.step() before calling env.reset()\u001b[39m\u001b[39m\"\u001b[39m)\n\u001b[0;32m---> 37\u001b[0m \u001b[39mreturn\u001b[39;00m \u001b[39mself\u001b[39;49m\u001b[39m.\u001b[39;49menv\u001b[39m.\u001b[39;49mstep(action)\n",
      "File \u001b[0;32m~/ml_accel/lib/python3.9/site-packages/gym/wrappers/env_checker.py:39\u001b[0m, in \u001b[0;36mPassiveEnvChecker.step\u001b[0;34m(self, action)\u001b[0m\n\u001b[1;32m     37\u001b[0m     \u001b[39mreturn\u001b[39;00m env_step_passive_checker(\u001b[39mself\u001b[39m\u001b[39m.\u001b[39menv, action)\n\u001b[1;32m     38\u001b[0m \u001b[39melse\u001b[39;00m:\n\u001b[0;32m---> 39\u001b[0m     \u001b[39mreturn\u001b[39;00m \u001b[39mself\u001b[39;49m\u001b[39m.\u001b[39;49menv\u001b[39m.\u001b[39;49mstep(action)\n",
      "File \u001b[0;32m~/ml_accel/lib/python3.9/site-packages/gym/envs/mujoco/half_cheetah_v4.py:209\u001b[0m, in \u001b[0;36mHalfCheetahEnv.step\u001b[0;34m(self, action)\u001b[0m\n\u001b[1;32m    201\u001b[0m info \u001b[39m=\u001b[39m {\n\u001b[1;32m    202\u001b[0m     \u001b[39m\"\u001b[39m\u001b[39mx_position\u001b[39m\u001b[39m\"\u001b[39m: x_position_after,\n\u001b[1;32m    203\u001b[0m     \u001b[39m\"\u001b[39m\u001b[39mx_velocity\u001b[39m\u001b[39m\"\u001b[39m: x_velocity,\n\u001b[1;32m    204\u001b[0m     \u001b[39m\"\u001b[39m\u001b[39mreward_run\u001b[39m\u001b[39m\"\u001b[39m: forward_reward,\n\u001b[1;32m    205\u001b[0m     \u001b[39m\"\u001b[39m\u001b[39mreward_ctrl\u001b[39m\u001b[39m\"\u001b[39m: \u001b[39m-\u001b[39mctrl_cost,\n\u001b[1;32m    206\u001b[0m }\n\u001b[1;32m    208\u001b[0m \u001b[39mif\u001b[39;00m \u001b[39mself\u001b[39m\u001b[39m.\u001b[39mrender_mode \u001b[39m==\u001b[39m \u001b[39m\"\u001b[39m\u001b[39mhuman\u001b[39m\u001b[39m\"\u001b[39m:\n\u001b[0;32m--> 209\u001b[0m     \u001b[39mself\u001b[39;49m\u001b[39m.\u001b[39;49mrender()\n\u001b[1;32m    210\u001b[0m \u001b[39mreturn\u001b[39;00m observation, reward, terminated, \u001b[39mFalse\u001b[39;00m, info\n",
      "File \u001b[0;32m~/ml_accel/lib/python3.9/site-packages/gym/envs/mujoco/mujoco_env.py:404\u001b[0m, in \u001b[0;36mMujocoEnv.render\u001b[0;34m(self)\u001b[0m\n\u001b[1;32m    402\u001b[0m     \u001b[39mreturn\u001b[39;00m data[::\u001b[39m-\u001b[39m\u001b[39m1\u001b[39m, :]\n\u001b[1;32m    403\u001b[0m \u001b[39melif\u001b[39;00m \u001b[39mself\u001b[39m\u001b[39m.\u001b[39mrender_mode \u001b[39m==\u001b[39m \u001b[39m\"\u001b[39m\u001b[39mhuman\u001b[39m\u001b[39m\"\u001b[39m:\n\u001b[0;32m--> 404\u001b[0m     \u001b[39mself\u001b[39;49m\u001b[39m.\u001b[39;49m_get_viewer(\u001b[39mself\u001b[39;49m\u001b[39m.\u001b[39;49mrender_mode)\u001b[39m.\u001b[39;49mrender()\n",
      "File \u001b[0;32m~/ml_accel/lib/python3.9/site-packages/gym/envs/mujoco/mujoco_rendering.py:544\u001b[0m, in \u001b[0;36mViewer.render\u001b[0;34m(self)\u001b[0m\n\u001b[1;32m    542\u001b[0m         \u001b[39mself\u001b[39m\u001b[39m.\u001b[39m_loop_count \u001b[39m=\u001b[39m \u001b[39m1\u001b[39m\n\u001b[1;32m    543\u001b[0m     \u001b[39mwhile\u001b[39;00m \u001b[39mself\u001b[39m\u001b[39m.\u001b[39m_loop_count \u001b[39m>\u001b[39m \u001b[39m0\u001b[39m:\n\u001b[0;32m--> 544\u001b[0m         update()\n\u001b[1;32m    545\u001b[0m         \u001b[39mself\u001b[39m\u001b[39m.\u001b[39m_loop_count \u001b[39m-\u001b[39m\u001b[39m=\u001b[39m \u001b[39m1\u001b[39m\n\u001b[1;32m    547\u001b[0m \u001b[39m# clear markers\u001b[39;00m\n",
      "File \u001b[0;32m~/ml_accel/lib/python3.9/site-packages/gym/envs/mujoco/mujoco_rendering.py:522\u001b[0m, in \u001b[0;36mViewer.render.<locals>.update\u001b[0;34m()\u001b[0m\n\u001b[1;32m    513\u001b[0m         \u001b[39mfor\u001b[39;00m gridpos, [t1, t2] \u001b[39min\u001b[39;00m \u001b[39mself\u001b[39m\u001b[39m.\u001b[39m_overlays\u001b[39m.\u001b[39mitems():\n\u001b[1;32m    514\u001b[0m             mujoco\u001b[39m.\u001b[39mmjr_overlay(\n\u001b[1;32m    515\u001b[0m                 mujoco\u001b[39m.\u001b[39mmjtFontScale\u001b[39m.\u001b[39mmjFONTSCALE_150,\n\u001b[1;32m    516\u001b[0m                 gridpos,\n\u001b[0;32m   (...)\u001b[0m\n\u001b[1;32m    520\u001b[0m                 \u001b[39mself\u001b[39m\u001b[39m.\u001b[39mcon,\n\u001b[1;32m    521\u001b[0m             )\n\u001b[0;32m--> 522\u001b[0m     glfw\u001b[39m.\u001b[39;49mswap_buffers(\u001b[39mself\u001b[39;49m\u001b[39m.\u001b[39;49mwindow)\n\u001b[1;32m    523\u001b[0m glfw\u001b[39m.\u001b[39mpoll_events()\n\u001b[1;32m    524\u001b[0m \u001b[39mself\u001b[39m\u001b[39m.\u001b[39m_time_per_render \u001b[39m=\u001b[39m \u001b[39m0.9\u001b[39m \u001b[39m*\u001b[39m \u001b[39mself\u001b[39m\u001b[39m.\u001b[39m_time_per_render \u001b[39m+\u001b[39m \u001b[39m0.1\u001b[39m \u001b[39m*\u001b[39m (\n\u001b[1;32m    525\u001b[0m     time\u001b[39m.\u001b[39mtime() \u001b[39m-\u001b[39m render_start\n\u001b[1;32m    526\u001b[0m )\n",
      "File \u001b[0;32m~/ml_accel/lib/python3.9/site-packages/glfw/__init__.py:2377\u001b[0m, in \u001b[0;36mswap_buffers\u001b[0;34m(window)\u001b[0m\n\u001b[1;32m   2370\u001b[0m \u001b[39mdef\u001b[39;00m \u001b[39mswap_buffers\u001b[39m(window):\n\u001b[1;32m   2371\u001b[0m \u001b[39m    \u001b[39m\u001b[39m\"\"\"\u001b[39;00m\n\u001b[1;32m   2372\u001b[0m \u001b[39m    Swaps the front and back buffers of the specified window.\u001b[39;00m\n\u001b[1;32m   2373\u001b[0m \n\u001b[1;32m   2374\u001b[0m \u001b[39m    Wrapper for:\u001b[39;00m\n\u001b[1;32m   2375\u001b[0m \u001b[39m        void glfwSwapBuffers(GLFWwindow* window);\u001b[39;00m\n\u001b[1;32m   2376\u001b[0m \u001b[39m    \"\"\"\u001b[39;00m\n\u001b[0;32m-> 2377\u001b[0m     _glfw\u001b[39m.\u001b[39;49mglfwSwapBuffers(window)\n",
      "File \u001b[0;32m~/ml_accel/lib/python3.9/site-packages/glfw/__init__.py:686\u001b[0m, in \u001b[0;36m_prepare_errcheck.<locals>.errcheck\u001b[0;34m(result, *args)\u001b[0m\n\u001b[1;32m    678\u001b[0m \u001b[39mdef\u001b[39;00m \u001b[39m_prepare_errcheck\u001b[39m():\n\u001b[1;32m    679\u001b[0m \u001b[39m    \u001b[39m\u001b[39m\"\"\"\u001b[39;00m\n\u001b[1;32m    680\u001b[0m \u001b[39m    This function sets the errcheck attribute of all ctypes wrapped functions\u001b[39;00m\n\u001b[1;32m    681\u001b[0m \u001b[39m    to evaluate the _exc_info_from_callback global variable and re-raise any\u001b[39;00m\n\u001b[0;32m   (...)\u001b[0m\n\u001b[1;32m    684\u001b[0m \u001b[39m    using the _callback_exception_decorator.\u001b[39;00m\n\u001b[1;32m    685\u001b[0m \u001b[39m    \"\"\"\u001b[39;00m\n\u001b[0;32m--> 686\u001b[0m     \u001b[39mdef\u001b[39;00m \u001b[39merrcheck\u001b[39m(result, \u001b[39m*\u001b[39margs):\n\u001b[1;32m    687\u001b[0m         \u001b[39mglobal\u001b[39;00m _exc_info_from_callback\n\u001b[1;32m    688\u001b[0m         \u001b[39mif\u001b[39;00m _exc_info_from_callback \u001b[39mis\u001b[39;00m \u001b[39mnot\u001b[39;00m \u001b[39mNone\u001b[39;00m:\n",
      "\u001b[0;31mKeyboardInterrupt\u001b[0m: "
     ]
    }
   ],
   "source": [
    "test_rewards = []\n",
    "for test in range(NUM_TEST_CYCLES): \n",
    "    \n",
    "    state, _ = env.reset()\n",
    "    state = torch.tensor(state, dtype=torch.float32, device = DEVICE).unsqueeze(0)\n",
    "    test_epoch_end = False\n",
    "    cum_reward = 0 \n",
    "\n",
    "    while not test_epoch_end: \n",
    "        \n",
    "        with torch.no_grad():\n",
    "            \n",
    "            action = actor(state).squeeze().cpu().detach().numpy()\n",
    "            \n",
    "            next_state, reward, terminated, truncated, _ = env.step(action)\n",
    "\n",
    "            test_epoch_end = terminated or truncated\n",
    "\n",
    "            cum_reward+=reward\n",
    "            if not terminated: \n",
    "                    next_state = torch.tensor(next_state, dtype=torch.float32, \\\n",
    "                        device = DEVICE).unsqueeze(0) #we only care about next_state if the state is non terminal\n",
    "            else: \n",
    "                next_state = None\n",
    "\n",
    "            state = next_state\n",
    "    test_rewards.append(cum_reward)\n",
    "    \n",
    "    clear_output(wait=True)\n",
    "    plt.plot(test_rewards)\n",
    "    plt.title('Average Cumulative Reward per Epoch')\n",
    "    plt.xlabel('Epoch')\n",
    "    plt.ylabel('Cumulative Reward')\n",
    "    plt.show()"
   ]
  },
  {
   "cell_type": "markdown",
   "metadata": {},
   "source": [
    "## Thoughts on results \n",
    "\n",
    "After training for a significant amount of time, although the cheetah was able to learn a policy that increased reward, it was a local maxima. The cheetah learned to flip to its back in the first few timesteps and then worm its way really fast forwards. While this is progress from previous training runs, it's not ideal. We can get an average test reward of around 1850, but we know that within this environment its possible for us to hit higher rewards up to the 10,000 range. \n",
    "\n",
    "My initial hunch is to reduce the critic's learning rate. I think the critic highly favoring such scenarios might be steering the actor in the direction of this policy, and that decreasing the critic's learning rate potentially by an order of magnitude might allow for more exploration taking our agent closer to an actual optimal policy. \n",
    "\n",
    "I'm not sure changing the exploration rate would do anything, considering a noise factor of 0.3 is already pretty high. "
   ]
  }
 ],
 "metadata": {
  "kernelspec": {
   "display_name": ".venv",
   "language": "python",
   "name": "python3"
  },
  "language_info": {
   "codemirror_mode": {
    "name": "ipython",
    "version": 3
   },
   "file_extension": ".py",
   "mimetype": "text/x-python",
   "name": "python",
   "nbconvert_exporter": "python",
   "pygments_lexer": "ipython3",
   "version": "3.9.1"
  },
  "orig_nbformat": 4
 },
 "nbformat": 4,
 "nbformat_minor": 2
}
