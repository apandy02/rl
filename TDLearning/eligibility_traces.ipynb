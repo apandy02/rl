{
 "cells": [
  {
   "attachments": {},
   "cell_type": "markdown",
   "metadata": {},
   "source": [
    "# SARSA (Lambda) [In-Progress]"
   ]
  },
  {
   "cell_type": "code",
   "execution_count": 12,
   "metadata": {},
   "outputs": [],
   "source": [
    "import gym \n",
    "import numpy as np \n",
    "import time"
   ]
  },
  {
   "cell_type": "code",
   "execution_count": 19,
   "metadata": {},
   "outputs": [],
   "source": [
    "env = gym.make(\"Taxi-v3\", render_mode = \"human\")\n",
    "env.reset()\n",
    "env.render()"
   ]
  },
  {
   "cell_type": "code",
   "execution_count": 20,
   "metadata": {},
   "outputs": [
    {
     "name": "stdout",
     "output_type": "stream",
     "text": [
      "We have Discrete(6) action space and Discrete(500) state space\n"
     ]
    }
   ],
   "source": [
    "state_space = env.observation_space\n",
    "action_space = env.action_space\n",
    "\n",
    "print(\"We have {} action space and {} state space\".format(action_space, state_space))"
   ]
  },
  {
   "cell_type": "code",
   "execution_count": 10,
   "metadata": {},
   "outputs": [],
   "source": [
    "#This function returns an array of action probabilities for a given state (a polic) \n",
    "#this policy is designed to be epsilon-greedy in relation to the state action value function Q \n",
    "def policy_fn(Q, num_actions, e, state):\n",
    "    action_probabilities = np.ones(num_actions) * (e/num_actions)\n",
    "    highest_action_value = np.argmax(Q[state])\n",
    "    action_probabilities[highest_action_value] += (1 - e)\n",
    "    \n",
    "    return action_probabilities\n",
    "\n",
    "def update_params(Q, state, action, reward, s_next, alpha, gamma, e) -> None: \n",
    "    old_val = Q[state, action]\n",
    "    pi = policy_fn(Q, action_space.n, e, state)\n",
    "    a_next = np.random.choice(np.arange(action_space.n), p = pi)\n",
    "    new_val = old_val + alpha * (reward + gamma * a_next - old_val)\n",
    "    Q[state, action] = new_val"
   ]
  },
  {
   "cell_type": "code",
   "execution_count": 5,
   "metadata": {},
   "outputs": [],
   "source": [
    "#Initializations \n",
    "Q = np.zeros((state_space.n, action_space.n))\n",
    "returns = [[[]]*action_space.n for i in range(state_space.n)]\n",
    "pi = np.zeros((state_space.n, action_space.n))\n",
    "epochs_per_episode = []\n",
    "action_prev = 0 \n",
    "state_prev = 0 \n",
    "\n",
    "#hyperparams \n",
    "num_episodes = 600\n",
    "epsilon = 0.1\n",
    "gamma = 1\n",
    "alpha = 0.1\n",
    "lamda = 0.6 "
   ]
  },
  {
   "cell_type": "code",
   "execution_count": null,
   "metadata": {},
   "outputs": [],
   "source": [
    "for i in range(num_episodes):\n",
    "    E = np.zeros((state_space.n, action_space.n))\n",
    "    episode = []\n",
    "    state = env.reset()\n",
    "    action = 0 \n",
    "    cumulative_reward = 0 \n",
    "    epoch = 0\n",
    "    terminated = False \n",
    "    print(\"Episode: {} Epoch: {}\".format(i, epoch))\n",
    "    \n",
    "    while not terminated: \n",
    "\n",
    "        epoch+=1\n",
    "        if type(state)==tuple: \n",
    "            state = state[0]\n",
    "        \n",
    "        next_state, reward, terminated, truncated, step_dict = env.step(action)\n",
    "        \n",
    "        pi[state] = policy_fn(Q, action_space.n, epsilon, state)\n",
    "        next_action = np.random.choice(np.arange(action_space.n), p = pi[state])\n",
    "    \n",
    "         \n",
    "        episode.append((state, action, reward))\n",
    "        \n",
    "        if epoch == 1: \n",
    "            action_prev = action\n",
    "            continue \n",
    "        \n",
    "        \n",
    "        update_params(Q, state, action, reward, next_state, alpha, gamma, epsilon)\n",
    "        \n",
    "        if terminated: \n",
    "            print(\"Episode: {} Epoch: {}\".format(i, epoch))\n",
    "            epochs_per_episode.append(epoch)\n",
    "        \n",
    "        state = next_state\n",
    "        action = next_action"
   ]
  }
 ],
 "metadata": {
  "kernelspec": {
   "display_name": "ml_accel",
   "language": "python",
   "name": "ml_accel"
  },
  "language_info": {
   "codemirror_mode": {
    "name": "ipython",
    "version": 3
   },
   "file_extension": ".py",
   "mimetype": "text/x-python",
   "name": "python",
   "nbconvert_exporter": "python",
   "pygments_lexer": "ipython3",
   "version": "3.8.10"
  },
  "orig_nbformat": 4
 },
 "nbformat": 4,
 "nbformat_minor": 2
}
