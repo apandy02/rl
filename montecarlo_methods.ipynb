{
 "cells": [
  {
   "attachments": {},
   "cell_type": "markdown",
   "metadata": {},
   "source": [
    "## Monte Carlo Methods for prediction and control"
   ]
  },
  {
   "cell_type": "code",
   "execution_count": 62,
   "metadata": {},
   "outputs": [],
   "source": [
    "import gym \n",
    "import numpy as np "
   ]
  },
  {
   "cell_type": "code",
   "execution_count": 63,
   "metadata": {},
   "outputs": [
    {
     "name": "stdout",
     "output_type": "stream",
     "text": [
      "We have Discrete(6) action space and Discrete(500) state space\n"
     ]
    }
   ],
   "source": [
    "env = gym.make('Taxi-v3')\n",
    "state_space = env.observation_space\n",
    "action_space = env.action_space\n",
    "\n",
    "print(\"We have {} action space and {} state space\".format(action_space, state_space))"
   ]
  },
  {
   "cell_type": "code",
   "execution_count": 64,
   "metadata": {},
   "outputs": [],
   "source": [
    "#we select pi to be some arbitrary e soft stochastic policy \n",
    "def policy_fn(Q, num_actions, e, state):\n",
    "    if type(state)==tuple: \n",
    "        state = state[0]\n",
    "    action_probabilities = np.ones(num_actions) * (e/num_actions)\n",
    "    highest_action_value = np.argmax(Q[state])\n",
    "    action_probabilities[highest_action_value] += 1 - e\n",
    "    \n",
    "    return action_probabilities"
   ]
  },
  {
   "cell_type": "code",
   "execution_count": 65,
   "metadata": {},
   "outputs": [],
   "source": [
    "num_episodes = 1000\n",
    "e = 0.01"
   ]
  },
  {
   "cell_type": "code",
   "execution_count": 66,
   "metadata": {},
   "outputs": [
    {
     "name": "stderr",
     "output_type": "stream",
     "text": [
      "/home/aryaman.pandya/ml_accel/lib/python3.8/site-packages/gym/utils/passive_env_checker.py:233: DeprecationWarning: `np.bool8` is a deprecated alias for `np.bool_`.  (Deprecated NumPy 1.24)\n",
      "  if not isinstance(terminated, (bool, np.bool8)):\n"
     ]
    }
   ],
   "source": [
    "Q = np.zeros((state_space.n, action_space.n))\n",
    "returns = [[[]]*action_space.n for i in range(state_space.n)]\n",
    "for i in range(1, num_episodes+1):\n",
    "    episode = {}\n",
    "    state = env.reset()\n",
    "    for time in range(10): \n",
    "        pi = policy_fn(Q, action_space.n, e, state)\n",
    "        action = np.random.choice(np.arange(action_space.n), p = pi)\n",
    "        next_state, reward, terminated, truncated, step_dict = env.step(action)\n",
    "        if (state, action) in episode.keys(): \n",
    "            episode[(state, action)].append((reward, next_state))\n",
    "        else: \n",
    "            episode[(state, action)] = [(reward,next_state)]\n",
    "        #print(env.step(action))\n",
    "        if terminated: \n",
    "            break \n",
    "        state = next_state\n",
    "    "
   ]
  }
 ],
 "metadata": {
  "kernelspec": {
   "display_name": "ml_accel",
   "language": "python",
   "name": "ml_accel"
  },
  "language_info": {
   "codemirror_mode": {
    "name": "ipython",
    "version": 3
   },
   "file_extension": ".py",
   "mimetype": "text/x-python",
   "name": "python",
   "nbconvert_exporter": "python",
   "pygments_lexer": "ipython3",
   "version": "3.8.10"
  },
  "orig_nbformat": 4
 },
 "nbformat": 4,
 "nbformat_minor": 2
}
