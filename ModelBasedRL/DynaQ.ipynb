{
 "cells": [
  {
   "attachments": {},
   "cell_type": "markdown",
   "metadata": {},
   "source": [
    "# Integrating Model-Based and Model-Free Approaches: Dyna-Q "
   ]
  },
  {
   "attachments": {},
   "cell_type": "markdown",
   "metadata": {},
   "source": [
    "In this notebook, we investigate a slight modification to the Q-learning algorithm part of the family of \"Dyna\" Algorithms known as Dyna-Q. In Dyna-Q, we maintain a model that approximates the nature of the MDP by storing previous interactions with the environment. \n",
    "\n",
    "Then, for every interaction with the environment we simulate K different interactions with the MDP. We use these simulated experiences to update our q function. "
   ]
  },
  {
   "cell_type": "code",
   "execution_count": 3,
   "metadata": {},
   "outputs": [],
   "source": [
    "import gym \n",
    "import numpy as np \n",
    "import random"
   ]
  },
  {
   "attachments": {},
   "cell_type": "markdown",
   "metadata": {},
   "source": [
    "### Environment: OpenAI Taxi-v3\n",
    "\n",
    "For the purposes of this assignment (as in the previous notebook), we use Taxi-v3 from OpenAI's Gym repository. This environment, its states, actions and goals are detailed on the following web page: https://www.gymlibrary.dev/environments/toy_text/taxi/. The environment is kept the same as the vanilla monte-carlo algorithm to be able to compare efficiency and speed.  "
   ]
  },
  {
   "cell_type": "code",
   "execution_count": 4,
   "metadata": {},
   "outputs": [],
   "source": [
    "env = gym.make(\"Taxi-v3\", render_mode = \"human\")\n",
    "env.reset()\n",
    "env.render()"
   ]
  },
  {
   "cell_type": "code",
   "execution_count": 5,
   "metadata": {},
   "outputs": [
    {
     "name": "stdout",
     "output_type": "stream",
     "text": [
      "We have Discrete(6) action space and Discrete(500) state space\n"
     ]
    }
   ],
   "source": [
    "state_space = env.observation_space\n",
    "action_space = env.action_space\n",
    "\n",
    "print(\"We have {} action space and {} state space\".format(action_space, state_space))"
   ]
  },
  {
   "cell_type": "code",
   "execution_count": 4,
   "metadata": {},
   "outputs": [],
   "source": [
    "#This function returns an array of action probabilities for a given state (a polic) \n",
    "#this policy is designed to be epsilon-greedy in relation to the state action value function Q \n",
    "def policy_fn(Q, num_actions, e, state):\n",
    "    action_probabilities = np.ones(num_actions) * (e/num_actions)\n",
    "    highest_action_value = np.argmax(Q[state])\n",
    "    action_probabilities[highest_action_value] += (1 - e)\n",
    "    \n",
    "    return action_probabilities\n",
    "\n",
    "def update_params(Q, state, action, reward, s_next, alpha, gamma) -> None: \n",
    "    old_val = Q[state, action]\n",
    "    #the following step is the difference between Q-learning and SARSA \n",
    "    #instead of updating based on the action the policy would pick, we \n",
    "    #update based on the best action value possible \n",
    "    a_next = np.max(Q[s_next])\n",
    "    new_val = old_val + alpha * (reward + gamma * a_next - old_val)\n",
    "    Q[state, action] = new_val"
   ]
  },
  {
   "cell_type": "code",
   "execution_count": 6,
   "metadata": {},
   "outputs": [
    {
     "name": "stdout",
     "output_type": "stream",
     "text": [
      "Episode: 0 Epoch: 0\n"
     ]
    },
    {
     "name": "stderr",
     "output_type": "stream",
     "text": [
      "/home/aryaman.pandya/ml_accel/lib/python3.8/site-packages/gym/utils/passive_env_checker.py:233: DeprecationWarning: `np.bool8` is a deprecated alias for `np.bool_`.  (Deprecated NumPy 1.24)\n",
      "  if not isinstance(terminated, (bool, np.bool8)):\n"
     ]
    },
    {
     "name": "stdout",
     "output_type": "stream",
     "text": [
      "Episode: 0 Epoch: 783\n",
      "Episode: 1 Epoch: 0\n",
      "Episode: 1 Epoch: 1382\n",
      "Episode: 2 Epoch: 0\n",
      "Episode: 2 Epoch: 1034\n",
      "Episode: 3 Epoch: 0\n"
     ]
    },
    {
     "ename": "",
     "evalue": "",
     "output_type": "error",
     "traceback": [
      "\u001b[1;31mCanceled future for execute_request message before replies were done"
     ]
    },
    {
     "ename": "",
     "evalue": "",
     "output_type": "error",
     "traceback": [
      "\u001b[1;31mThe Kernel crashed while executing code in the the current cell or a previous cell. Please review the code in the cell(s) to identify a possible cause of the failure. Click <a href='https://aka.ms/vscodeJupyterKernelCrash'>here</a> for more info. View Jupyter <a href='command:jupyter.viewOutput'>log</a> for further details."
     ]
    }
   ],
   "source": [
    "def train_dynaq(num_episodes, e, gamma, alpha, k):\n",
    "    \n",
    "    #Initializations \n",
    "    Q = np.zeros((state_space.n, action_space.n))\n",
    "    \n",
    "    model = [[()]*action_space.n for i in range(state_space.n)]\n",
    "    states_visited = []\n",
    "    actions_at_states = [[] for i in range(state_space.n)]\n",
    "    \n",
    "    pi = np.zeros((state_space.n, action_space.n))\n",
    "    epochs_per_episode = []\n",
    "    \n",
    "    for i in range(num_episodes):\n",
    "        \n",
    "        state = env.reset()\n",
    "        \n",
    "        cumulative_reward = 0 \n",
    "        epoch = 0\n",
    "        terminated = False \n",
    "        print(\"Episode: {} Epoch: {}\".format(i, epoch))\n",
    "        \n",
    "        while not terminated: \n",
    "            \n",
    "            states_visited.append(state)\n",
    "            \n",
    "            epoch+=1\n",
    "            if type(state)==tuple: \n",
    "                state = state[0]\n",
    "            \n",
    "            pi[state] = policy_fn(Q, action_space.n, e, state)\n",
    "            action = np.random.choice(np.arange(action_space.n), p = pi[state])\n",
    "            \n",
    "            actions_at_states[state].append(action)\n",
    "            \n",
    "            next_state, reward, terminated, truncated, step_dict = env.step(action)\n",
    "            \n",
    "            update_params(Q, state, action, reward, next_state, alpha, gamma)\n",
    "            model[state][action] = (reward, next_state)\n",
    "            cumulative_reward+= reward\n",
    "            \n",
    "            for i in range(k): \n",
    "                state_rand = random.choice(states_visited)\n",
    "                action_rand = random.choice(actions_at_states[state_rand])\n",
    "                reward_rand, next_state_rand = model[state_rand][action_rand]\n",
    "            \n",
    "            if terminated: \n",
    "                print(\"Episode: {} Epoch: {}\".format(i, epoch))\n",
    "                epochs_per_episode.append(epoch)\n",
    "            \n",
    "            state = next_state"
   ]
  },
  {
   "cell_type": "code",
   "execution_count": 5,
   "metadata": {},
   "outputs": [],
   "source": [
    "#hyperparams \n",
    "num_episodes = 600\n",
    "e = 0.1\n",
    "gamma = 1\n",
    "alpha = 0.1\n",
    "K = 5 "
   ]
  },
  {
   "attachments": {},
   "cell_type": "markdown",
   "metadata": {},
   "source": [
    "## Visualizing the learning process"
   ]
  },
  {
   "cell_type": "code",
   "execution_count": null,
   "metadata": {},
   "outputs": [
    {
     "data": {
      "image/png": "[encoded data removed]",
      "text/plain": [
       "<Figure size 640x480 with 1 Axes>"
      ]
     },
     "metadata": {},
     "output_type": "display_data"
    }
   ],
   "source": [
    "import matplotlib.pyplot as plt \n",
    "\n",
    "num_episode = list(range(1, len(epochs_per_episode) + 1))\n",
    "plt.bar(num_episode, epochs_per_episode)\n",
    "plt.xlabel('Episode')\n",
    "plt.ylabel('Epoch')\n",
    "plt.show()"
   ]
  },
  {
   "attachments": {},
   "cell_type": "markdown",
   "metadata": {},
   "source": [
    "### Results \n",
    "\n",
    "This algorithm allowed our agent to learn online, which allowed it to achieve a terminal state much faster than the average-based MC methods in the first few episodes. Over time the value function converged enough to have multiple episodes that terminated in less than 50 time steps. Throughout the learning process, the policy being used was a stochastic epsilon greedy one to allow for exploration. Below, we examine the behavior of a deterministic policy against our learned value function. "
   ]
  },
  {
   "cell_type": "code",
   "execution_count": null,
   "metadata": {},
   "outputs": [],
   "source": [
    "state_start = env.reset()\n",
    "i = 0\n",
    "e = 0.01 #make policy less exploratory while testing \n",
    "env.reset()\n",
    "env.render()\n",
    "test_epochs_per_episode = []\n",
    "for i in range(50): \n",
    "    test_epochs = 0 \n",
    "    while not terminated: \n",
    "        test_epochs =+ 1 \n",
    "        if type(state)==tuple: \n",
    "            state = state[0]\n",
    "        \n",
    "        #time.sleep(0.03)\n",
    "        pi[state] = policy_fn(Q, action_space.n, e, state)\n",
    "        action = np.random.choice(np.arange(action_space.n), p = pi[state])\n",
    "        print(state)\n",
    "        next_state, reward, terminated, truncated, step_dict = env.step(action)\n",
    "        \n",
    "        if terminated: \n",
    "            print(test_epochs)\n",
    "            test_epochs_per_episode.append(test_epochs)\n",
    "        state = next_state"
   ]
  }
 ],
 "metadata": {
  "kernelspec": {
   "display_name": "ml_accel",
   "language": "python",
   "name": "ml_accel"
  },
  "language_info": {
   "codemirror_mode": {
    "name": "ipython",
    "version": 3
   },
   "file_extension": ".py",
   "mimetype": "text/x-python",
   "name": "python",
   "nbconvert_exporter": "python",
   "pygments_lexer": "ipython3",
   "version": "3.8.10"
  },
  "orig_nbformat": 4
 },
 "nbformat": 4,
 "nbformat_minor": 2
}
