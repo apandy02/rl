{
 "cells": [
  {
   "attachments": {},
   "cell_type": "markdown",
   "metadata": {},
   "source": [
    "# Monte Carlo Methods for prediction and control"
   ]
  },
  {
   "cell_type": "code",
   "execution_count": 1,
   "metadata": {},
   "outputs": [],
   "source": [
    "import gym \n",
    "import numpy as np "
   ]
  },
  {
   "attachments": {},
   "cell_type": "markdown",
   "metadata": {},
   "source": [
    "### Environment: OpenAI Taxi-v3\n",
    "\n",
    "For the purposes of this assignment, we use Taxi-v3 from OpenAI's Gym repository. This environment, its states, actions and goals are detailed on the following web page: https://www.gymlibrary.dev/environments/toy_text/taxi/ "
   ]
  },
  {
   "cell_type": "code",
   "execution_count": 2,
   "metadata": {},
   "outputs": [
    {
     "name": "stdout",
     "output_type": "stream",
     "text": [
      "We have Discrete(6) action space and Discrete(500) state space\n"
     ]
    }
   ],
   "source": [
    "env = gym.make('Taxi-v3')\n",
    "state_space = env.observation_space\n",
    "action_space = env.action_space\n",
    "\n",
    "print(\"We have {} action space and {} state space\".format(action_space, state_space))"
   ]
  },
  {
   "attachments": {},
   "cell_type": "markdown",
   "metadata": {},
   "source": [
    "### On-policy Monte Carlo Control "
   ]
  },
  {
   "cell_type": "code",
   "execution_count": 3,
   "metadata": {},
   "outputs": [],
   "source": [
    "#we select pi to be some arbitrary e soft stochastic policy \n",
    "def policy_fn(Q, num_actions, e, state):\n",
    "    action_probabilities = np.ones(num_actions) * (e/num_actions)\n",
    "    highest_action_value = np.argmax(Q[state])\n",
    "    action_probabilities[highest_action_value] += 1 - e\n",
    "    \n",
    "    return action_probabilities"
   ]
  },
  {
   "cell_type": "code",
   "execution_count": 4,
   "metadata": {},
   "outputs": [],
   "source": [
    "num_episodes = 100\n",
    "e = 0.1\n",
    "gamma = 0.2"
   ]
  },
  {
   "cell_type": "code",
   "execution_count": 5,
   "metadata": {},
   "outputs": [
    {
     "name": "stderr",
     "output_type": "stream",
     "text": [
      "/home/aryaman.pandya/ml_accel/lib/python3.8/site-packages/gym/utils/passive_env_checker.py:233: DeprecationWarning: `np.bool8` is a deprecated alias for `np.bool_`.  (Deprecated NumPy 1.24)\n",
      "  if not isinstance(terminated, (bool, np.bool8)):\n"
     ]
    }
   ],
   "source": [
    "Q = np.zeros((state_space.n, action_space.n))\n",
    "returns = [[[]]*action_space.n for i in range(state_space.n)]\n",
    "pi = np.zeros((state_space.n, action_space.n))\n",
    "\n",
    "for i in range(1, num_episodes+1):\n",
    "    \n",
    "    episode = []\n",
    "    state = env.reset()\n",
    "    cumulative_reward = 0 \n",
    "    \n",
    "    for time in range(1000): \n",
    "        \n",
    "        if type(state)==tuple: \n",
    "            state = state[0]\n",
    "        \n",
    "        pi[state] = policy_fn(Q, action_space.n, e, state)\n",
    "        action = np.random.choice(np.arange(action_space.n), p = pi[state])\n",
    "        next_state, reward, terminated, truncated, step_dict = env.step(action)\n",
    "        \n",
    "        episode.append((state, action, reward))\n",
    "        \n",
    "        #print(episode[(state, action)])\n",
    "        if terminated: \n",
    "            break \n",
    "        state = next_state\n",
    "        \n",
    "        \n",
    "    visited = []\n",
    "    return_till_now = 0 \n",
    "    returns = {}\n",
    "    states_in_episode = []\n",
    "    for i, (state, action, reward) in enumerate(episode): \n",
    "        if state not in states_in_episode: \n",
    "            states_in_episode.append(state)\n",
    "        if (state, action) in visited: \n",
    "            continue\n",
    "        else: \n",
    "            visited.append((state, action))\n",
    "            G = sum([r*(gamma**j) for j, (s, a, r) in enumerate(episode)])\n",
    "            if (state, action) in returns.keys(): \n",
    "                returns[(state, action)].append(G)\n",
    "            else: \n",
    "                returns[(state, action)] = [G]\n",
    "            Q[state][action] = sum(returns[(state, action)])/len(returns[(state, action)])\n",
    "            \n",
    "    for state in states_in_episode: \n",
    "        pi[state] = policy_fn(Q, action_space.n, e, state)"
   ]
  },
  {
   "cell_type": "code",
   "execution_count": 6,
   "metadata": {},
   "outputs": [
    {
     "name": "stdout",
     "output_type": "stream",
     "text": [
      "[[0.         0.         0.         0.         0.         0.        ]\n",
      " [0.         0.         0.         0.         0.         0.        ]\n",
      " [0.01666667 0.01666667 0.01666667 0.91666667 0.01666667 0.01666667]\n",
      " ...\n",
      " [0.91666667 0.01666667 0.01666667 0.01666667 0.01666667 0.01666667]\n",
      " [0.01666667 0.01666667 0.91666667 0.01666667 0.01666667 0.01666667]\n",
      " [0.91666667 0.01666667 0.01666667 0.01666667 0.01666667 0.01666667]]\n"
     ]
    }
   ],
   "source": [
    "print(pi)"
   ]
  },
  {
   "cell_type": "code",
   "execution_count": 7,
   "metadata": {},
   "outputs": [
    {
     "data": {
      "text/plain": [
       "array([[ 0.  ,  0.  ,  0.  ,  0.  ,  0.  ,  0.  ],\n",
       "       [ 0.  ,  0.  ,  0.  ,  0.  ,  0.  ,  0.  ],\n",
       "       [-1.25, -1.25, -1.25,  0.  , -1.25,  0.  ],\n",
       "       ...,\n",
       "       [-1.61, -1.61, -1.61, -1.61, -1.61, -1.61],\n",
       "       [-1.34, -1.34, -1.25, -1.25, -1.25, -1.25],\n",
       "       [ 0.  ,  0.  ,  0.  , -1.25,  0.  ,  0.  ]])"
      ]
     },
     "execution_count": 7,
     "metadata": {},
     "output_type": "execute_result"
    }
   ],
   "source": [
    "Q"
   ]
  }
 ],
 "metadata": {
  "kernelspec": {
   "display_name": "ml_accel",
   "language": "python",
   "name": "ml_accel"
  },
  "language_info": {
   "codemirror_mode": {
    "name": "ipython",
    "version": 3
   },
   "file_extension": ".py",
   "mimetype": "text/x-python",
   "name": "python",
   "nbconvert_exporter": "python",
   "pygments_lexer": "ipython3",
   "version": "3.8.10"
  },
  "orig_nbformat": 4
 },
 "nbformat": 4,
 "nbformat_minor": 2
}
