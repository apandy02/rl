{
 "cells": [
  {
   "attachments": {},
   "cell_type": "markdown",
   "metadata": {},
   "source": [
    "# Monte Carlo Methods for prediction and control"
   ]
  },
  {
   "cell_type": "code",
   "execution_count": 77,
   "metadata": {},
   "outputs": [],
   "source": [
    "import gym \n",
    "import numpy as np "
   ]
  },
  {
   "attachments": {},
   "cell_type": "markdown",
   "metadata": {},
   "source": [
    "### Environment: OpenAI Taxi-v3\n",
    "\n",
    "For the purposes of this assignment, we use Taxi-v3 from OpenAI's Gym repository. This environment, its states, actions and goals are detailed on the following web page: https://www.gymlibrary.dev/environments/toy_text/taxi/ "
   ]
  },
  {
   "cell_type": "code",
   "execution_count": 78,
   "metadata": {},
   "outputs": [
    {
     "name": "stdout",
     "output_type": "stream",
     "text": [
      "We have Discrete(6) action space and Discrete(500) state space\n"
     ]
    }
   ],
   "source": [
    "env = gym.make('Taxi-v3')\n",
    "state_space = env.observation_space\n",
    "action_space = env.action_space\n",
    "\n",
    "print(\"We have {} action space and {} state space\".format(action_space, state_space))"
   ]
  },
  {
   "attachments": {},
   "cell_type": "markdown",
   "metadata": {},
   "source": [
    "### On-policy Monte Carlo Control "
   ]
  },
  {
   "cell_type": "code",
   "execution_count": 79,
   "metadata": {},
   "outputs": [],
   "source": [
    "#we select pi to be some arbitrary e soft stochastic policy \n",
    "def policy_fn(Q, num_actions, e, state):\n",
    "    if type(state)==tuple: \n",
    "        state = state[0]\n",
    "    action_probabilities = np.ones(num_actions) * (e/num_actions)\n",
    "    highest_action_value = np.argmax(Q[state])\n",
    "    action_probabilities[highest_action_value] += 1 - e\n",
    "    \n",
    "    return action_probabilities"
   ]
  },
  {
   "cell_type": "code",
   "execution_count": 80,
   "metadata": {},
   "outputs": [],
   "source": [
    "num_episodes = 1000\n",
    "e = 0.01"
   ]
  },
  {
   "cell_type": "code",
   "execution_count": 101,
   "metadata": {},
   "outputs": [
    {
     "name": "stdout",
     "output_type": "stream",
     "text": [
      "-1, -1\n",
      "-2, -1\n",
      "-3, -1\n",
      "-4, -1\n"
     ]
    }
   ],
   "source": [
    "Q = np.zeros((state_space.n, action_space.n))\n",
    "returns = [[[]]*action_space.n for i in range(state_space.n)]\n",
    "\n",
    "for i in range(1, num_episodes+1):\n",
    "    \n",
    "    episode = {}\n",
    "    state = env.reset()\n",
    "    cumulative_reward = 0 \n",
    "    \n",
    "    for time in range(100): \n",
    "        \n",
    "        pi = policy_fn(Q, action_space.n, e, state)\n",
    "        action = np.random.choice(np.arange(action_space.n), p = pi)\n",
    "        next_state, reward, terminated, truncated, step_dict = env.step(action)\n",
    "        cumulative_reward += reward\n",
    "        \n",
    "        if type(state)==tuple: \n",
    "            state = state[0]\n",
    "        \n",
    "        if (state, action) in episode.keys(): \n",
    "            episode[(state, action)].append(reward)\n",
    "        else: \n",
    "            episode[(state, action)] = [reward]\n",
    "        \n",
    "        #print(episode[(state, action)])\n",
    "        if terminated: \n",
    "            break \n",
    "        state = next_state\n",
    "        \n",
    "    visited = []\n",
    "    return_till_now = 0 \n",
    "    for i, (state, action) in enumerate(episode): \n",
    "        return_till_now += episode[(state, action)][0]\n",
    "        print(\"{}, {}\".format(return_till_now, episode[(state, action)][0]))\n",
    "        episode[(state, action)].pop(0)\n",
    "        if (state, action) in visited: \n",
    "            continue\n",
    "    break\n",
    "            \n",
    "            \n",
    "            \n",
    "    "
   ]
  }
 ],
 "metadata": {
  "kernelspec": {
   "display_name": "ml_accel",
   "language": "python",
   "name": "ml_accel"
  },
  "language_info": {
   "codemirror_mode": {
    "name": "ipython",
    "version": 3
   },
   "file_extension": ".py",
   "mimetype": "text/x-python",
   "name": "python",
   "nbconvert_exporter": "python",
   "pygments_lexer": "ipython3",
   "version": "3.8.10"
  },
  "orig_nbformat": 4
 },
 "nbformat": 4,
 "nbformat_minor": 2
}
